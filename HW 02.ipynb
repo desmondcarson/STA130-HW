{
 "cells": [
  {
   "cell_type": "markdown",
   "id": "9efbe599",
   "metadata": {},
   "source": [
    "1. Begin (or restart) part \"3(a)\" of the TUT Demo and interact with a ChatBot to make sure you understand how each part the Monte Hall problem code above works"
   ]
  },
  {
   "cell_type": "code",
   "execution_count": 1,
   "id": "d3806d95",
   "metadata": {},
   "outputs": [
    {
     "data": {
      "text/plain": [
       "0.66903"
      ]
     },
     "execution_count": 1,
     "metadata": {},
     "output_type": "execute_result"
    }
   ],
   "source": [
    "# Monte Hall sim code, good to have in the notebook, and extra annotations\n",
    "\n",
    "import numpy as np\n",
    "all_door_options = (1,2,3)       # this is a tuple\n",
    "my_door_choice = 1               # the initial choice is always set to be door 1\n",
    "i_won = 0                        # the count for how many times we win, it starts at 0\n",
    "reps = 100000                    # sets how many reps we do \n",
    "for i in range(reps):\n",
    "    secret_winning_door = np.random.choice(all_door_options) #sets winning door\n",
    "    all_door_options_list = list(all_door_options)           # duplicates the tuple into a seperate list\n",
    "    all_door_options_list.remove(secret_winning_door)        # take the secret_winning_door, don't show it as \"goat\" losing door \n",
    "\n",
    "    try:\n",
    "        # if my_door_choice was secret_winning_door then it's already removed\n",
    "        all_door_options_list.remove(my_door_choice)\n",
    "    except:                                      # this chain tries to remove my_door_choice, but passes if it is \n",
    "        pass                                     # the winning door, mentioned above\n",
    "    # show a \"goat\" losing door and remove it\n",
    "    goat_door_reveal = np.random.choice(all_door_options_list)  #shows one of the goat doors. either 1 or 2 choices\n",
    "    all_door_options_list.remove(goat_door_reveal)              # goat door now removed\n",
    "\n",
    "    # put the secret_winning_door back in if it wasn't our choice\n",
    "    # we previously removed it, so it would not be shown as a  \"goat\" losing door\n",
    "    if secret_winning_door != my_door_choice:\n",
    "        all_door_options_list.append(secret_winning_door)\n",
    "    # if secret_winning_door was our choice then all that's left in the list is a \"goat\" losing door\n",
    "    # if secret_winning_door wasn't our choice then it's all that will be left in the list\n",
    "    # at this point, the goat door is removed, and our door is removed. it is only the extra door left\n",
    "\n",
    "    # swap strategy\n",
    "    my_door_choice = all_door_options_list[0]           # swaps to the final door\n",
    "\n",
    "    if my_door_choice == secret_winning_door:           # checks if the door swapped to is the winner\n",
    "        i_won += 1                                      # if it is, add 1\n",
    "\n",
    "i_won/reps                                              # calculates proportion of wins"
   ]
  },
  {
   "cell_type": "markdown",
   "id": "a08c3374",
   "metadata": {},
   "source": [
    "2. Extend your ChatBot sessions to now address part \"3(b)\" of the TUT Demo and interact with your ChatBot to see if it can suggest a simpler, more streamlined way to code up this for loop simulation so the process is more clear and easier to understand; then, describe any preferences you have in terms of readibility or explainability between the original code and the code improvements suggested by the ChatBot"
   ]
  },
  {
   "cell_type": "code",
   "execution_count": 3,
   "id": "9a930b23",
   "metadata": {},
   "outputs": [
    {
     "name": "stdout",
     "output_type": "stream",
     "text": [
      "0.66397\n"
     ]
    }
   ],
   "source": [
    "import numpy as np\n",
    "\n",
    "all_door_options = (1, 2, 3)\n",
    "i_won = 0\n",
    "reps = 100000\n",
    "\n",
    "for _ in range(reps):\n",
    "    secret_winning_door = np.random.choice(all_door_options)\n",
    "    \n",
    "    # If the player chose the winning door, switch to one of the losing doors\n",
    "    if secret_winning_door == 1:\n",
    "        my_door_choice = np.random.choice([2, 3])\n",
    "    else:\n",
    "        my_door_choice = secret_winning_door  # Always switch to the winning door\n",
    "    \n",
    "    if my_door_choice == secret_winning_door:\n",
    "        i_won += 1\n",
    "\n",
    "win_probability = i_won / reps\n",
    "print(win_probability)"
   ]
  },
  {
   "cell_type": "markdown",
   "id": "7d92dc5c",
   "metadata": {
    "slideshow": {
     "slide_type": "slide"
    }
   },
   "source": [
    "While this code is really easy to understand if you already understand the solution to the Monty Hall problem, and why that solution works out the way it does, it may be a bit harder to digest if you are confused by the math behind it or are just seeing the problem for the first time. Ultimately, the initial code was nice in that it played out the actual situation step by step, meaning that if you were seeing the problem for the first time you could follow along, and the code would help you understand why the solution is what it is. Chat's code might be more efficient, but is less applied."
   ]
  },
  {
   "cell_type": "markdown",
   "id": "625e5203",
   "metadata": {},
   "source": [
    "3. Submit your preferred version of the Monty Hall problem that is verified to be running and working with a final printed output of the code; then, add code comments explaining the purpose of each line of the code"
   ]
  },
  {
   "cell_type": "markdown",
   "id": "4973a31a",
   "metadata": {},
   "source": [
    "As actual code, I prefer ChatGPT's version because it is much more streamlined. Fully annotated code below."
   ]
  },
  {
   "cell_type": "code",
   "execution_count": 6,
   "id": "59cf59a3",
   "metadata": {},
   "outputs": [
    {
     "name": "stdout",
     "output_type": "stream",
     "text": [
      "0.66304\n"
     ]
    }
   ],
   "source": [
    "import numpy as np         # imports numpy. need that for random doors and simulation stuff\n",
    "\n",
    "all_door_options = (1, 2, 3)      #establishes a tuple of the three doors\n",
    "i_won = 0                         # sets the count of times we have won, starting at 0\n",
    "reps = 100000                     # we will do this 100,000 times to get an accurate number (large sample size)\n",
    "\n",
    "for _ in range(reps):             # begins a loop, using _ as placeholder variable\n",
    "    secret_winning_door = np.random.choice(all_door_options)         #randomly selects the winning door from the tuple\n",
    "    \n",
    "    if secret_winning_door == 1:                                    \n",
    "        my_door_choice = np.random.choice([2, 3])\n",
    "#the above assumes that we picked option 1, and rather than revealing a goat and switching to the other, \n",
    "#just picks a door, which yields the same result but quicker\n",
    "    else:\n",
    "        my_door_choice = secret_winning_door  \n",
    "#now, if we didn't pick the winning door first time around, the only door left to switch to will be the winning door\n",
    "#given that the chatbot already knows how the problem works out, it skips all the shuffling and just switches to the\n",
    "#correct door. this is where this code is efficient, but wouldn't teach someone how the problem works.\n",
    "        \n",
    "    if my_door_choice == secret_winning_door:\n",
    "        i_won += 1                                   #add one point to the count if we switched to the correct door\n",
    "\n",
    "win_probability = i_won / reps                       #creates a variable to represent the proportion of sims we won\n",
    "print(win_probability)                               # prints said variable"
   ]
  },
  {
   "cell_type": "markdown",
   "id": "5f45a59d",
   "metadata": {},
   "source": [
    "4. Watch the embedded video tutorial on Markov chains in the next Jupyter cell below to understand their application and relevance for ChatBots; then, after watching the video, start a new ChatBot session by prompting that you have code that creates a \"Markovian ChatBot\"; show it the first version of the \"Markovian ChatBot code\" below; and interact with the ChatBot session to make sure you understand how the original first version of the \"Markovian ChatBot code\" works"
   ]
  },
  {
   "cell_type": "markdown",
   "id": "c8cbbe8b",
   "metadata": {},
   "source": [
    "Chatbot 2, will show up in summary below"
   ]
  },
  {
   "cell_type": "markdown",
   "id": "979b2b23",
   "metadata": {},
   "source": [
    "5. Recreate (or resume) the previous ChatBot session from question \"4\" above, and now prompt the ChatBot session that you have a couple extensions of the code to show it, and then show it each of the extentions of the \"Markovian ChatBot code\" below in turn"
   ]
  },
  {
   "cell_type": "markdown",
   "id": "e5683d16",
   "metadata": {},
   "source": [
    "Chatbot 2 for the first 2 parts, then Chatbot 3. Chatbot 3 seemed to understand the code pretty well even without the intermediate extension."
   ]
  },
  {
   "cell_type": "markdown",
   "id": "dd83a51c",
   "metadata": {},
   "source": [
    "6. Report on your experience interacting with ChatBots to understand the Monte Hall problem and \"Markovian ChatBot\" code\n",
    "\n",
    "6.1 Discuss how quickly the ChatBot was able to be helpful for each of the above questions, and if so, how?\n",
    "\n",
    "Sometimes it would take a second for the ChatBot to understand the code, but once it did it was pretty imediately helpful in breaking down the given code line by line, and explaining the both in and out of context what all the coding did.\n",
    "\n",
    "6.2 Discuss whether or not interacting with ChatBot to try to figure things out was frustrating or unhelpful, and if so, how?\n",
    "\n",
    "I found interacting with the ChatBot to be far from frustrating. I find it to be a quick and accesible way to learn to understand what I'm looking at, and is also very helpful in explaining in context what is being discussed.\n",
    "\n",
    "6.3 Based on your experiences to date (e.g., including using ChatBots to troubleshoot coding errors in the previous homework), provide an overall assessment evaluating the usefulness of ChatBots as tools to help you understand code.\n",
    "\n",
    "I find ChatBots to be extremely helpful and have helped me understand much of the coding in this class that I was unfamiliar with at the start. I find ChatBots to be helpful in that with a regular source (reading, video), if I was left confused by a specific aspect of a topic, there was no easy way to find specific clarification on my own, but with a ChatBot, I find it extremely easy to follow up on certain parts of a problem that I may need additional help with. I think this style of learning fits me especially well, as it allows me to dedicate my time and effort specifically to the areas in which I need to."
   ]
  },
  {
   "cell_type": "markdown",
   "id": "23fbd29d",
   "metadata": {},
   "source": [
    "7. Reflect on your experience interacting with ChatBot and describe how your perception of AI-driven assistance tools in the context of learning coding, statistics, and data science has been evolving (or not) since joining the course\n",
    "\n",
    "In all honesty, before this course I was not a supporter of AI-driven learning in most contexts, but this has changed significantly in the past weeks. I think part of this may be due to the improving capabilities of ChatGPT allowing it to provide more detailed and contextual information, while in past, it had not been able to provide super reliable or helpful assistance. In this class, I have been really greatly driven by the assistance of ChatBots to understand the course material and to provide further clarification on many topics. In fact, I think the presence of ChatBots in a class like this has encouraged me to ask questions and dive deeper into topics that I maybe would have just shrugged off anyways. Because of this, I think that ChatBots such as ChatGPT are useful for sparking deeper learning and I have been using them in my other Computer Science and Math courses to make sure that I have a full understanding of whatever topics we may be working on at a given time."
   ]
  },
  {
   "cell_type": "markdown",
   "id": "a6a7daa9",
   "metadata": {},
   "source": [
    "8. ChatBots consume text data available on the web or platforms, and thus represents a new way to \"search consensensus\" that condenses and summarizes mainstream human thought\n",
    "\n",
    "8.1, 8.2, 8.3: Both ChatBot 4, below. Also link: https://chatgpt.com/share/66ec7f8c-8824-8013-91d3-bcab9e658640\n",
    "\n",
    "8.4 Paraphrase the assessments and conclusions of your conversation in the form of a reflection on your current thoughts regarding your potential future career(s) and how you can go about building the skills you need to pursue it\n",
    "\n",
    "    I think that, regarding a career in finance, which would be the goal after an economics degree, I would want to build on the skills that I am already learning in statistics and computer science courses with some more industry-specific skills and knowledge, allowing me to build a set of applicable yet flexible skills.\n",
    "    \n",
    "8.5 Give your thoughts regarding the helpfulness or limitations of your conversation with a ChatBot, and describe the next steps you would take to pursue this conversation further if you felt the information the ChatBot provides was somewhat high level and general, and perhaps lacked the depth and detailed knowledge of a dedicated subject matter expert who had really take the time to understand the ins and outs of the industry and career path in question.\n",
    "\n",
    "    I feel that while the ChatBot is good at practical, hands-on issues like fixing code or explaining a math problem, it is not as helpful in providing a rundown of information about a broad issue. I feel like often ChatGPT produces answers that fit a very basic formula for conveying information, making it difficult to pick out the actually important information. I think talking to a proffesional who had real life experience with the field would be much more helpful than a ChatBot, as ChatBots can only really answer questions of theory."
   ]
  },
  {
   "cell_type": "markdown",
   "id": "ae7d7a02",
   "metadata": {},
   "source": [
    "9. Have you reviewed the course wiki-textbook and interacted with a ChatBot (or, if that wasn't sufficient, real people in the course piazza discussion board or TA office hours) to help you understand all the material in the tutorial and lecture that you didn't quite follow when you first saw it?"
   ]
  },
  {
   "cell_type": "markdown",
   "id": "17c8068c",
   "metadata": {},
   "source": [
    "Yes!"
   ]
  },
  {
   "cell_type": "code",
   "execution_count": null,
   "id": "2c41c499",
   "metadata": {},
   "outputs": [],
   "source": []
  },
  {
   "cell_type": "markdown",
   "id": "b1edf667",
   "metadata": {},
   "source": [
    "CHATBOT SUMMARY 1\n",
    "\n",
    "Certainly! Here's a summary of our interactions:\n",
    "\n",
    "---\n",
    "\n",
    "### **1. Code Walkthrough and Explanation:**\n",
    "\n",
    "You provided a Monte Hall simulation code, and we went through the code line by line to understand its functionality:\n",
    "\n",
    "- The code uses NumPy to simulate the Monty Hall problem, where the player always switches doors.\n",
    "- Key parts of the code include randomly selecting a winning door, removing it and the player’s initial choice, revealing a \"goat\" door, and then swapping to the remaining door.\n",
    "- The simulation runs for 100,000 iterations to calculate the probability of winning by switching doors, which should approach 2/3.\n",
    "\n",
    "---\n",
    "\n",
    "### **2. Clarifying Questions:**\n",
    "\n",
    "You asked two clarifying questions:\n",
    "1. **Why use `i` in the line `for i in range(reps):`?**\n",
    "   - We discussed how `i` is a loop variable that simply iterates over a range of numbers, although it's not used in the loop itself in this context. It's conventional to use `i` as a placeholder.\n",
    "\n",
    "2. **Deeper explanation of part 10:**\n",
    "   - We examined the logic behind removing the player's initial door choice from the list of doors, using a `try-except` block to avoid errors if the door was already removed. We discussed how this ensures a \"goat\" door is revealed without accidentally revealing the player's choice or the winning door.\n",
    "\n",
    "---\n",
    "\n",
    "### **3. Code Refinement:**\n",
    "\n",
    "You requested a shorter and more efficient version of the code. The refined version of the code:\n",
    "- Avoids unnecessary list manipulations by using logical conditions instead.\n",
    "- Removes the `try-except` block and uses an `if-else` statement to handle whether the player picked the winning door initially.\n",
    "- The loop is simplified, and list conversions are minimized.\n",
    "\n",
    "---\n",
    "\n",
    "### **4. Line-by-Line Breakdown of the Refined Code:**\n",
    "\n",
    "I provided a detailed, line-by-line breakdown of the refined code, explaining each step:\n",
    "- The simulation runs 100,000 times, where the player starts by choosing door 1 and switches based on whether their initial choice was the winning door.\n",
    "- The player’s switch is handled by simple logic: if door 1 was the winning door, they switch to one of the losing doors. If door 1 was not the winning door, they automatically switch to the winning door.\n",
    "- Finally, the win probability is calculated and printed, demonstrating the expected win rate from switching.\n",
    "\n",
    "---\n",
    "\n",
    "This summary outlines the steps we took to understand and optimize the Monte Hall simulation code for your homework assignment. Let me know if you'd like to refine it further!\n",
    "\n",
    "https://chatgpt.com/share/66eb7a59-4c94-8013-8698-cf90b979aad8"
   ]
  },
  {
   "cell_type": "markdown",
   "id": "eb52bb3f",
   "metadata": {},
   "source": [
    "CHATBOT SUMMARY 2\n",
    "\n",
    "Sure! Here's a summary of our exchanges that you can submit as part of your homework assignment:\n",
    "\n",
    "---\n",
    "\n",
    "### **Summary of Interaction on Markovian Chatbot**\n",
    "\n",
    "#### 1. **Understanding the Basic Markovian Chatbot Code:**\n",
    "   - You provided an initial Markovian chatbot code that builds two dictionaries: `word_used` and `next_word`. These dictionaries keep track of word frequencies and transitions between words, respectively. \n",
    "   - The `word_used` dictionary counts how often each word appears, and `next_word` records how often each word follows a given word.\n",
    "   - I explained that this approach models text generation using a single-word context, where the chatbot predicts the next word based on the current word in the sequence.\n",
    "\n",
    "#### 2. **Extension 1: Two-Word Markov Chain**\n",
    "   - You introduced the first extension, where instead of using a single word to predict the next word, the chatbot now uses a pair of consecutive words as context.\n",
    "   - In this version, `word_used2` tracks the frequency of two-word pairs, and `next_word2` records what word follows each two-word pair.\n",
    "   - I explained that this enhances the chatbot's ability to generate more coherent responses by incorporating a larger context (two words instead of one) when predicting the next word.\n",
    "\n",
    "#### 3. **Extension 2: Character-Based Markov Chain**\n",
    "   - You provided a more advanced extension where the chatbot generates responses based on character-specific text patterns.\n",
    "   - This extension introduces two nested dictionaries: `word_used2C` and `next_word2C`, where each dictionary is structured by character. For each character, the model tracks two-word pairs and their transitions to the next word.\n",
    "   - I explained that this allows the chatbot to generate text that mimics the speaking style of different characters, making the responses more contextually rich and character-specific.\n",
    "\n",
    "---\n",
    "\n",
    "This summary outlines the progression from the basic single-word Markov chain to more advanced extensions like two-word chains and character-based modeling, along with their applications in chatbot development.\n",
    "\n",
    "Let me know if you'd like to adjust any details before submitting!\n",
    "\n",
    "https://chatgpt.com/share/66ec3c4a-baf0-8013-b9c9-1f810ea5a217"
   ]
  },
  {
   "cell_type": "markdown",
   "id": "2d8cabca",
   "metadata": {},
   "source": [
    "CHATBOT SUMMARY 3\n",
    "\n",
    "Here's a summary of our exchanges:\n",
    "\n",
    "1. **Initial Markovian Chatbot Implementation**: \n",
    "   - You provided a simple Markovian chatbot code that builds a model based on word pair frequencies. The chatbot tracks the occurrence of words and their subsequent words using two dictionaries: `word_used` and `next_word`.\n",
    "\n",
    "2. **Explanation and Enhancement Suggestions**: \n",
    "   - I explained that the code models word sequences using a Markov process, and suggested the next step should involve generating sentences by predicting the next word in a sequence based on probabilities derived from the word pair frequencies.\n",
    "\n",
    "3. **Extended Markovian Chatbot with Characters**:\n",
    "   - You provided a more advanced extension, where text data was linked to specific characters from a dataset (`avatar.character`). The code now processes two-word sequences (bigrams) and associates them with characters.\n",
    "   - Two dictionaries, `word_used2C` and `next_word2C`, were created to store the bigram counts and predict the following word (trigrams) for each character.\n",
    "\n",
    "4. **Advanced Explanation**:\n",
    "   - I explained that the new code builds both bigram and trigram models, storing word sequences for each character. I outlined how these could be used for character-specific sentence generation.\n",
    "   \n",
    "Let me know if you'd like to refine or adjust the summary!\n",
    "\n",
    "https://chatgpt.com/share/66ec3e77-d3e8-8013-ac73-bc9a61e3ec2f"
   ]
  },
  {
   "cell_type": "markdown",
   "id": "1043c892",
   "metadata": {},
   "source": [
    "CHATBOT SUMMARY 4\n",
    "\n",
    "You're very welcome! Here's a summary of our exchanges for your homework submission:\n",
    "\n",
    "---\n",
    "\n",
    "### Summary of Key Exchanges on Careers in Data Science and Finance:\n",
    "\n",
    "1. **Value of Core Skills in Data Science**:\n",
    "   - We discussed how **learning and adaptability, communication, coding, and statistics/data analysis** are essential for modern careers in data science.\n",
    "   - These skills help data scientists stay relevant in a rapidly changing industry, with **learning and adaptability** being crucial for mastering new tools, **communication** vital for explaining data insights to non-technical audiences, **coding** for handling complex data and automation, and **statistics/data analysis** for interpreting data accurately.\n",
    "\n",
    "2. **Staying Relevant in a Fast-Changing Industry**:\n",
    "   - You raised a valid concern about whether these skills would become outdated as the industry evolves.\n",
    "   - We concluded that while specific tools and technologies may change, the **foundational skills**—especially the ability to **learn and adapt**—remain timeless and help professionals adjust to future advancements.\n",
    "\n",
    "3. **Being a Statistician or Data Scientist Without Coding or Data Analysis**:\n",
    "   - You asked whether one could be a statistician or data scientist without using coding or data analysis.\n",
    "   - We concluded that while it’s possible to be a statistician using statistical software (without heavy coding), **data analysis** is essential. Similarly, coding is critical for data science, especially for handling large datasets and building custom models, though low-code tools can handle some basic tasks.\n",
    "\n",
    "4. **Transfer of Skills to Finance**:\n",
    "   - When you asked if the same skills would apply to a finance career, we discussed how **adaptability, communication, coding, and data analysis** are also crucial in finance.\n",
    "   - Skills like **financial modeling, risk management, and investment analysis** are critical, with coding and data analysis growing in importance for roles like financial analyst or quantitative finance.\n",
    "\n",
    "5. **Professions That Don’t Require These Skills**:\n",
    "   - You inquired about professions that don’t require these skills. Examples included **artisan and craftsperson, truck drivers, construction workers, chefs, and mechanics**, where manual skills and craftsmanship are more important than coding or data analysis.\n",
    "\n",
    "6. **Key Skills for a Career in Finance**:\n",
    "   - We explored a broader set of skills needed for finance, including **financial analysis, accounting knowledge, risk management, and investment analysis**.\n",
    "   - Soft skills like **client relationship management, negotiation, attention to detail, and decision-making** are also crucial for success in finance, along with familiarity with **financial products, market awareness, and regulatory knowledge**.\n",
    "\n",
    "---\n",
    "\n",
    "This summary encapsulates the key points of our discussion on data science, finance careers, and related skills. Let me know if you need any adjustments for your assignment!\n",
    "\n",
    "https://chatgpt.com/share/66ec7f8c-8824-8013-91d3-bcab9e658640"
   ]
  },
  {
   "cell_type": "code",
   "execution_count": null,
   "id": "c26b6d99",
   "metadata": {},
   "outputs": [],
   "source": []
  }
 ],
 "metadata": {
  "kernelspec": {
   "display_name": "Python 3 (ipykernel)",
   "language": "python",
   "name": "python3"
  },
  "language_info": {
   "codemirror_mode": {
    "name": "ipython",
    "version": 3
   },
   "file_extension": ".py",
   "mimetype": "text/x-python",
   "name": "python",
   "nbconvert_exporter": "python",
   "pygments_lexer": "ipython3",
   "version": "3.11.6"
  }
 },
 "nbformat": 4,
 "nbformat_minor": 5
}
